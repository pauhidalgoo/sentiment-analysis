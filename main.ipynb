{
 "cells": [
  {
   "cell_type": "markdown",
   "metadata": {},
   "source": [
    "# **SENTIMENT ANALYSIS**"
   ]
  },
  {
   "cell_type": "code",
   "execution_count": 1,
   "metadata": {},
   "outputs": [
    {
     "data": {
      "text/plain": [
       "True"
      ]
     },
     "execution_count": 1,
     "metadata": {},
     "output_type": "execute_result"
    }
   ],
   "source": [
    "import os\n",
    "from dotenv import load_dotenv\n",
    "\n",
    "load_dotenv('login.env')"
   ]
  },
  {
   "cell_type": "markdown",
   "metadata": {},
   "source": [
    "## Supervised"
   ]
  },
  {
   "cell_type": "code",
   "execution_count": 2,
   "metadata": {},
   "outputs": [
    {
     "name": "stderr",
     "output_type": "stream",
     "text": [
      "[nltk_data] Downloading package movie_reviews to\n",
      "[nltk_data]     C:\\Users\\Usuario\\AppData\\Roaming\\nltk_data...\n",
      "[nltk_data]   Package movie_reviews is already up-to-date!\n"
     ]
    }
   ],
   "source": [
    "import nltk\n",
    "nltk.download('movie_reviews')\n",
    "from nltk.corpus import movie_reviews as mr\n",
    "import numpy as np"
   ]
  },
  {
   "cell_type": "code",
   "execution_count": 3,
   "metadata": {},
   "outputs": [],
   "source": [
    "ids_positive = mr.fileids('pos')\n",
    "words_positive = [\" \".join(mr.words(file)) for file in ids_positive]\n",
    "ids_negative = mr.fileids('neg')\n",
    "words_negative = [\" \".join(mr.words(file)) for file in ids_negative]"
   ]
  },
  {
   "cell_type": "code",
   "execution_count": 27,
   "metadata": {},
   "outputs": [
    {
     "name": "stdout",
     "output_type": "stream",
     "text": [
      "films adapted from comic books have had plenty of success , whether they ' re about superheroes ( batman , superman , spawn ) , or geared toward kids ( casper ) or the arthouse crowd ( ghost world ) , but there ' s never really been a comic book like from hell before . for starters , it was created by alan moore ( and eddie campbell ) , who brought the medium to a whole new level in the mid ' 80s with a 12 - part series called the watchmen . to say moore and campbell thoroughly researched the subject of jack the ripper would be like saying michael jackson is starting to look a little odd . the book ( or \" graphic novel , \" if you will ) is over 500 pages long and includes nearly 30 more that consist of nothing but footnotes . in other words , don ' t dismiss this film because of its source . if you can get past the whole comic book thing , you might find another stumbling block in from hell ' s directors , albert and allen hughes . getting the hughes brothers to direct this seems almost as ludicrous as casting carrot top in , well , anything , but riddle me this : who better to direct a film that ' s set in the ghetto and features really violent street crime than the mad geniuses behind menace ii society ? the ghetto in question is , of course , whitechapel in 1888 london ' s east end . it ' s a filthy , sooty place where the whores ( called \" unfortunates \" ) are starting to get a little nervous about this mysterious psychopath who has been carving through their profession with surgical precision . when the first stiff turns up , copper peter godley ( robbie coltrane , the world is not enough ) calls in inspector frederick abberline ( johnny depp , blow ) to crack the case . abberline , a widower , has prophetic dreams he unsuccessfully tries to quell with copious amounts of absinthe and opium . upon arriving in whitechapel , he befriends an unfortunate named mary kelly ( heather graham , say it isn ' t so ) and proceeds to investigate the horribly gruesome crimes that even the police surgeon can ' t stomach . i don ' t think anyone needs to be briefed on jack the ripper , so i won ' t go into the particulars here , other than to say moore and campbell have a unique and interesting theory about both the identity of the killer and the reasons he chooses to slay . in the comic , they don ' t bother cloaking the identity of the ripper , but screenwriters terry hayes ( vertical limit ) and rafael yglesias ( les mis ? rables ) do a good job of keeping him hidden from viewers until the very end . it ' s funny to watch the locals blindly point the finger of blame at jews and indians because , after all , an englishman could never be capable of committing such ghastly acts . and from hell ' s ending had me whistling the stonecutters song from the simpsons for days ( \" who holds back the electric car / who made steve guttenberg a star ? \" ) . don ' t worry - it ' ll all make sense when you see it . now onto from hell ' s appearance : it ' s certainly dark and bleak enough , and it ' s surprising to see how much more it looks like a tim burton film than planet of the apes did ( at times , it seems like sleepy hollow 2 ) . the print i saw wasn ' t completely finished ( both color and music had not been finalized , so no comments about marilyn manson ) , but cinematographer peter deming ( don ' t say a word ) ably captures the dreariness of victorian - era london and helped make the flashy killing scenes remind me of the crazy flashbacks in twin peaks , even though the violence in the film pales in comparison to that in the black - and - white comic . oscar winner martin childs ' ( shakespeare in love ) production design turns the original prague surroundings into one creepy place . even the acting in from hell is solid , with the dreamy depp turning in a typically strong performance and deftly handling a british accent . ians holm ( joe gould ' s secret ) and richardson ( 102 dalmatians ) log in great supporting roles , but the big surprise here is graham . i cringed the first time she opened her mouth , imagining her attempt at an irish accent , but it actually wasn ' t half bad . the film , however , is all good . 2 : 00 - r for strong violence / gore , sexuality , language and drug content\n"
     ]
    }
   ],
   "source": [
    "print((words_positive[0]))"
   ]
  },
  {
   "cell_type": "code",
   "execution_count": 4,
   "metadata": {},
   "outputs": [],
   "source": [
    "from sklearn.feature_extraction.text import CountVectorizer\n",
    "vectorizer = CountVectorizer(min_df=0.1, stop_words='english', strip_accents='ascii')\n",
    "X = words_positive + words_negative\n",
    "y = np.array([1 for _ in range(len(ids_positive))] + [0 for _ in range(len(ids_negative))])\n",
    "\n",
    "from sklearn.model_selection import train_test_split\n",
    "X_train, X_test, y_train, y_test = train_test_split(X, y, test_size=0.25, random_state=42, shuffle=True)\n"
   ]
  },
  {
   "cell_type": "code",
   "execution_count": null,
   "metadata": {},
   "outputs": [],
   "source": [
    "X_train = vectorizer.fit_transform(X_train)\n",
    "X_test = vectorizer.transform(X_test)"
   ]
  },
  {
   "cell_type": "code",
   "execution_count": 64,
   "metadata": {},
   "outputs": [
    {
     "data": {
      "text/plain": [
       "0.804"
      ]
     },
     "execution_count": 64,
     "metadata": {},
     "output_type": "execute_result"
    }
   ],
   "source": [
    "from sklearn.ensemble import GradientBoostingClassifier\n",
    "clf = GradientBoostingClassifier(n_estimators=100, learning_rate=0.2,max_depth=5, random_state=0).fit(X_train, y_train)\n",
    "clf.score(X_test, y_test)"
   ]
  },
  {
   "cell_type": "code",
   "execution_count": 66,
   "metadata": {},
   "outputs": [
    {
     "name": "stderr",
     "output_type": "stream",
     "text": [
      "C:\\Users\\Usuario\\AppData\\Local\\Packages\\PythonSoftwareFoundation.Python.3.11_qbz5n2kfra8p0\\LocalCache\\local-packages\\Python311\\site-packages\\sklearn\\ensemble\\_weight_boosting.py:519: FutureWarning: The SAMME.R algorithm (the default) is deprecated and will be removed in 1.6. Use the SAMME algorithm to circumvent this warning.\n",
      "  warnings.warn(\n"
     ]
    },
    {
     "data": {
      "text/plain": [
       "0.776"
      ]
     },
     "execution_count": 66,
     "metadata": {},
     "output_type": "execute_result"
    }
   ],
   "source": [
    "from sklearn.ensemble import AdaBoostClassifier\n",
    "from sklearn.metrics import accuracy_score\n",
    "clf = AdaBoostClassifier(n_estimators=200, algorithm=\"SAMME\", random_state=0)\n",
    "clf.fit(X_train, y_train)\n",
    "\n",
    "accuracy_score(clf.predict(X_test), y_test)"
   ]
  },
  {
   "cell_type": "code",
   "execution_count": 56,
   "metadata": {},
   "outputs": [
    {
     "data": {
      "text/plain": [
       "0.68"
      ]
     },
     "execution_count": 56,
     "metadata": {},
     "output_type": "execute_result"
    }
   ],
   "source": [
    "from sklearn.naive_bayes import GaussianNB\n",
    "gnb = GaussianNB()\n",
    "gnb.fit(X_train.toarray(), y_train)\n",
    "gnb.score(X_test.toarray(), y_test)"
   ]
  },
  {
   "cell_type": "code",
   "execution_count": 55,
   "metadata": {},
   "outputs": [
    {
     "data": {
      "text/plain": [
       "0.75"
      ]
     },
     "execution_count": 55,
     "metadata": {},
     "output_type": "execute_result"
    }
   ],
   "source": [
    "from sklearn.ensemble import RandomForestClassifier\n",
    "clf = RandomForestClassifier(n_estimators=100, max_depth=2, random_state=0)\n",
    "clf.fit(X_train, y_train)\n",
    "\n",
    "accuracy_score(clf.predict(X_test), y_test)"
   ]
  },
  {
   "cell_type": "code",
   "execution_count": 54,
   "metadata": {},
   "outputs": [
    {
     "data": {
      "text/plain": [
       "0.828"
      ]
     },
     "execution_count": 54,
     "metadata": {},
     "output_type": "execute_result"
    }
   ],
   "source": [
    "from sklearn.linear_model import LogisticRegression\n",
    "clf = LogisticRegression(random_state=0)\n",
    "clf.fit(X_train, y_train)\n",
    "\n",
    "accuracy_score(clf.predict(X_test), y_test)"
   ]
  },
  {
   "cell_type": "code",
   "execution_count": 53,
   "metadata": {},
   "outputs": [
    {
     "data": {
      "text/plain": [
       "0.776"
      ]
     },
     "execution_count": 53,
     "metadata": {},
     "output_type": "execute_result"
    }
   ],
   "source": [
    "from sklearn.svm import SVC\n",
    "clf = SVC()\n",
    "clf.fit(X_train, y_train)\n",
    "\n",
    "accuracy_score(clf.predict(X_test), y_test)"
   ]
  },
  {
   "cell_type": "code",
   "execution_count": 51,
   "metadata": {},
   "outputs": [
    {
     "ename": "KeyboardInterrupt",
     "evalue": "",
     "output_type": "error",
     "traceback": [
      "\u001b[1;31m---------------------------------------------------------------------------\u001b[0m",
      "\u001b[1;31mKeyboardInterrupt\u001b[0m                         Traceback (most recent call last)",
      "Cell \u001b[1;32mIn[51], line 4\u001b[0m\n\u001b[0;32m      2\u001b[0m \u001b[38;5;28;01mfrom\u001b[39;00m \u001b[38;5;21;01minterpret\u001b[39;00m\u001b[38;5;21;01m.\u001b[39;00m\u001b[38;5;21;01mglassbox\u001b[39;00m \u001b[38;5;28;01mimport\u001b[39;00m ExplainableBoostingClassifier\n\u001b[0;32m      3\u001b[0m ebm \u001b[38;5;241m=\u001b[39m ExplainableBoostingClassifier(random_state\u001b[38;5;241m=\u001b[39m\u001b[38;5;241m0\u001b[39m)\n\u001b[1;32m----> 4\u001b[0m \u001b[43mebm\u001b[49m\u001b[38;5;241;43m.\u001b[39;49m\u001b[43mfit\u001b[49m\u001b[43m(\u001b[49m\u001b[43mX_train\u001b[49m\u001b[43m,\u001b[49m\u001b[43m \u001b[49m\u001b[43my_train\u001b[49m\u001b[43m)\u001b[49m\n\u001b[0;32m      6\u001b[0m accuracy_score(ebm\u001b[38;5;241m.\u001b[39mpredict(X_test), y_test)\n",
      "File \u001b[1;32m~\\AppData\\Local\\Packages\\PythonSoftwareFoundation.Python.3.11_qbz5n2kfra8p0\\LocalCache\\local-packages\\Python311\\site-packages\\interpret\\glassbox\\_ebm\\_ebm.py:956\u001b[0m, in \u001b[0;36mEBMModel.fit\u001b[1;34m(self, X, y, sample_weight, bags, init_score)\u001b[0m\n\u001b[0;32m    921\u001b[0m         init_score_local \u001b[38;5;241m=\u001b[39m init_score_local[bag \u001b[38;5;241m!=\u001b[39m \u001b[38;5;241m0\u001b[39m]\n\u001b[0;32m    923\u001b[0m     parallel_args\u001b[38;5;241m.\u001b[39mappend(\n\u001b[0;32m    924\u001b[0m         (\n\u001b[0;32m    925\u001b[0m             dataset,\n\u001b[1;32m   (...)\u001b[0m\n\u001b[0;32m    953\u001b[0m         )\n\u001b[0;32m    954\u001b[0m     )\n\u001b[1;32m--> 956\u001b[0m results \u001b[38;5;241m=\u001b[39m \u001b[43mprovider\u001b[49m\u001b[38;5;241;43m.\u001b[39;49m\u001b[43mparallel\u001b[49m\u001b[43m(\u001b[49m\u001b[43mboost\u001b[49m\u001b[43m,\u001b[49m\u001b[43m \u001b[49m\u001b[43mparallel_args\u001b[49m\u001b[43m)\u001b[49m\n\u001b[0;32m    958\u001b[0m \u001b[38;5;66;03m# let python reclaim the dataset memory via reference counting\u001b[39;00m\n\u001b[0;32m    959\u001b[0m \u001b[38;5;28;01mdel\u001b[39;00m parallel_args  \u001b[38;5;66;03m# parallel_args holds references to dataset, so must be deleted\u001b[39;00m\n",
      "File \u001b[1;32m~\\AppData\\Local\\Packages\\PythonSoftwareFoundation.Python.3.11_qbz5n2kfra8p0\\LocalCache\\local-packages\\Python311\\site-packages\\interpret\\provider\\_compute.py:19\u001b[0m, in \u001b[0;36mJobLibProvider.parallel\u001b[1;34m(self, compute_fn, compute_args_iter)\u001b[0m\n\u001b[0;32m     18\u001b[0m \u001b[38;5;28;01mdef\u001b[39;00m \u001b[38;5;21mparallel\u001b[39m(\u001b[38;5;28mself\u001b[39m, compute_fn, compute_args_iter):\n\u001b[1;32m---> 19\u001b[0m     results \u001b[38;5;241m=\u001b[39m \u001b[43mParallel\u001b[49m\u001b[43m(\u001b[49m\u001b[43mn_jobs\u001b[49m\u001b[38;5;241;43m=\u001b[39;49m\u001b[38;5;28;43mself\u001b[39;49m\u001b[38;5;241;43m.\u001b[39;49m\u001b[43mn_jobs\u001b[49m\u001b[43m)\u001b[49m\u001b[43m(\u001b[49m\n\u001b[0;32m     20\u001b[0m \u001b[43m        \u001b[49m\u001b[43mdelayed\u001b[49m\u001b[43m(\u001b[49m\u001b[43mcompute_fn\u001b[49m\u001b[43m)\u001b[49m\u001b[43m(\u001b[49m\u001b[38;5;241;43m*\u001b[39;49m\u001b[43margs\u001b[49m\u001b[43m)\u001b[49m\u001b[43m \u001b[49m\u001b[38;5;28;43;01mfor\u001b[39;49;00m\u001b[43m \u001b[49m\u001b[43margs\u001b[49m\u001b[43m \u001b[49m\u001b[38;5;129;43;01min\u001b[39;49;00m\u001b[43m \u001b[49m\u001b[43mcompute_args_iter\u001b[49m\n\u001b[0;32m     21\u001b[0m \u001b[43m    \u001b[49m\u001b[43m)\u001b[49m\n\u001b[0;32m     22\u001b[0m     \u001b[38;5;28;01mreturn\u001b[39;00m results\n",
      "File \u001b[1;32m~\\AppData\\Local\\Packages\\PythonSoftwareFoundation.Python.3.11_qbz5n2kfra8p0\\LocalCache\\local-packages\\Python311\\site-packages\\joblib\\parallel.py:1952\u001b[0m, in \u001b[0;36mParallel.__call__\u001b[1;34m(self, iterable)\u001b[0m\n\u001b[0;32m   1946\u001b[0m \u001b[38;5;66;03m# The first item from the output is blank, but it makes the interpreter\u001b[39;00m\n\u001b[0;32m   1947\u001b[0m \u001b[38;5;66;03m# progress until it enters the Try/Except block of the generator and\u001b[39;00m\n\u001b[0;32m   1948\u001b[0m \u001b[38;5;66;03m# reach the first `yield` statement. This starts the aynchronous\u001b[39;00m\n\u001b[0;32m   1949\u001b[0m \u001b[38;5;66;03m# dispatch of the tasks to the workers.\u001b[39;00m\n\u001b[0;32m   1950\u001b[0m \u001b[38;5;28mnext\u001b[39m(output)\n\u001b[1;32m-> 1952\u001b[0m \u001b[38;5;28;01mreturn\u001b[39;00m output \u001b[38;5;28;01mif\u001b[39;00m \u001b[38;5;28mself\u001b[39m\u001b[38;5;241m.\u001b[39mreturn_generator \u001b[38;5;28;01melse\u001b[39;00m \u001b[38;5;28mlist\u001b[39m(output)\n",
      "File \u001b[1;32m~\\AppData\\Local\\Packages\\PythonSoftwareFoundation.Python.3.11_qbz5n2kfra8p0\\LocalCache\\local-packages\\Python311\\site-packages\\joblib\\parallel.py:1595\u001b[0m, in \u001b[0;36mParallel._get_outputs\u001b[1;34m(self, iterator, pre_dispatch)\u001b[0m\n\u001b[0;32m   1592\u001b[0m     \u001b[38;5;28;01myield\u001b[39;00m\n\u001b[0;32m   1594\u001b[0m     \u001b[38;5;28;01mwith\u001b[39;00m \u001b[38;5;28mself\u001b[39m\u001b[38;5;241m.\u001b[39m_backend\u001b[38;5;241m.\u001b[39mretrieval_context():\n\u001b[1;32m-> 1595\u001b[0m         \u001b[38;5;28;01myield from\u001b[39;00m \u001b[38;5;28mself\u001b[39m\u001b[38;5;241m.\u001b[39m_retrieve()\n\u001b[0;32m   1597\u001b[0m \u001b[38;5;28;01mexcept\u001b[39;00m \u001b[38;5;167;01mGeneratorExit\u001b[39;00m:\n\u001b[0;32m   1598\u001b[0m     \u001b[38;5;66;03m# The generator has been garbage collected before being fully\u001b[39;00m\n\u001b[0;32m   1599\u001b[0m     \u001b[38;5;66;03m# consumed. This aborts the remaining tasks if possible and warn\u001b[39;00m\n\u001b[0;32m   1600\u001b[0m     \u001b[38;5;66;03m# the user if necessary.\u001b[39;00m\n\u001b[0;32m   1601\u001b[0m     \u001b[38;5;28mself\u001b[39m\u001b[38;5;241m.\u001b[39m_exception \u001b[38;5;241m=\u001b[39m \u001b[38;5;28;01mTrue\u001b[39;00m\n",
      "File \u001b[1;32m~\\AppData\\Local\\Packages\\PythonSoftwareFoundation.Python.3.11_qbz5n2kfra8p0\\LocalCache\\local-packages\\Python311\\site-packages\\joblib\\parallel.py:1707\u001b[0m, in \u001b[0;36mParallel._retrieve\u001b[1;34m(self)\u001b[0m\n\u001b[0;32m   1702\u001b[0m \u001b[38;5;66;03m# If the next job is not ready for retrieval yet, we just wait for\u001b[39;00m\n\u001b[0;32m   1703\u001b[0m \u001b[38;5;66;03m# async callbacks to progress.\u001b[39;00m\n\u001b[0;32m   1704\u001b[0m \u001b[38;5;28;01mif\u001b[39;00m ((\u001b[38;5;28mlen\u001b[39m(\u001b[38;5;28mself\u001b[39m\u001b[38;5;241m.\u001b[39m_jobs) \u001b[38;5;241m==\u001b[39m \u001b[38;5;241m0\u001b[39m) \u001b[38;5;129;01mor\u001b[39;00m\n\u001b[0;32m   1705\u001b[0m     (\u001b[38;5;28mself\u001b[39m\u001b[38;5;241m.\u001b[39m_jobs[\u001b[38;5;241m0\u001b[39m]\u001b[38;5;241m.\u001b[39mget_status(\n\u001b[0;32m   1706\u001b[0m         timeout\u001b[38;5;241m=\u001b[39m\u001b[38;5;28mself\u001b[39m\u001b[38;5;241m.\u001b[39mtimeout) \u001b[38;5;241m==\u001b[39m TASK_PENDING)):\n\u001b[1;32m-> 1707\u001b[0m     time\u001b[38;5;241m.\u001b[39msleep(\u001b[38;5;241m0.01\u001b[39m)\n\u001b[0;32m   1708\u001b[0m     \u001b[38;5;28;01mcontinue\u001b[39;00m\n\u001b[0;32m   1710\u001b[0m \u001b[38;5;66;03m# We need to be careful: the job list can be filling up as\u001b[39;00m\n\u001b[0;32m   1711\u001b[0m \u001b[38;5;66;03m# we empty it and Python list are not thread-safe by\u001b[39;00m\n\u001b[0;32m   1712\u001b[0m \u001b[38;5;66;03m# default hence the use of the lock\u001b[39;00m\n",
      "\u001b[1;31mKeyboardInterrupt\u001b[0m: "
     ]
    }
   ],
   "source": [
    "#EBM\n",
    "from interpret.glassbox import ExplainableBoostingClassifier\n",
    "ebm = ExplainableBoostingClassifier(random_state=0)\n",
    "ebm.fit(X_train, y_train)\n",
    "\n",
    "accuracy_score(ebm.predict(X_test), y_test)"
   ]
  },
  {
   "cell_type": "code",
   "execution_count": 108,
   "metadata": {},
   "outputs": [
    {
     "data": {
      "text/plain": [
       "0.728"
      ]
     },
     "execution_count": 108,
     "metadata": {},
     "output_type": "execute_result"
    }
   ],
   "source": [
    "from sklearn.neural_network import MLPClassifier\n",
    "\n",
    "clf = MLPClassifier(solver='lbfgs', max_iter=10000, alpha=1e-5, hidden_layer_sizes=(5, 2), random_state=1)\n",
    "clf.fit(X_train, y_train)\n",
    "accuracy_score(clf.predict(X_test), y_test)"
   ]
  },
  {
   "cell_type": "code",
   "execution_count": 105,
   "metadata": {},
   "outputs": [
    {
     "data": {
      "text/plain": [
       "0.58"
      ]
     },
     "execution_count": 105,
     "metadata": {},
     "output_type": "execute_result"
    }
   ],
   "source": [
    "from sklearn.neighbors import KNeighborsClassifier\n",
    "neigh = KNeighborsClassifier(n_neighbors=5)\n",
    "neigh.fit(X_train, y_train)\n",
    "\n",
    "accuracy_score(neigh.predict(X_test), y_test)"
   ]
  },
  {
   "cell_type": "markdown",
   "metadata": {},
   "source": [
    "# Unsupervised"
   ]
  },
  {
   "cell_type": "code",
   "execution_count": 66,
   "metadata": {},
   "outputs": [],
   "source": [
    "from textserver import TextServer\n",
    "from nltk.tokenize import word_tokenize\n",
    "from nltk.stem import WordNetLemmatizer\n",
    "from nltk.corpus import sentiwordnet as swn\n",
    "from nltk.wsd import lesk"
   ]
  },
  {
   "cell_type": "code",
   "execution_count": 6,
   "metadata": {},
   "outputs": [],
   "source": [
    "ts_password = os.getenv(\"PASSWORD_CAI\")\n",
    "ts_user = os.getenv(\"USER_CAI\")"
   ]
  },
  {
   "cell_type": "code",
   "execution_count": 7,
   "metadata": {},
   "outputs": [
    {
     "name": "stdout",
     "output_type": "stream",
     "text": [
      "PLHTextServer2024$\n",
      "cai.selvas\n",
      "[TS-117] Text is longer than the maximum allowed\n"
     ]
    },
    {
     "ename": "HTTPError",
     "evalue": "400 Client Error:  for url: http://frodo.lsi.upc.edu:8080/TextWS/textservlet/ws/processQuery/senses",
     "output_type": "error",
     "traceback": [
      "\u001b[1;31m---------------------------------------------------------------------------\u001b[0m",
      "\u001b[1;31mHTTPError\u001b[0m                                 Traceback (most recent call last)",
      "Cell \u001b[1;32mIn[7], line 5\u001b[0m\n\u001b[0;32m      2\u001b[0m \u001b[38;5;28mprint\u001b[39m(ts_user)\n\u001b[0;32m      4\u001b[0m ts \u001b[38;5;241m=\u001b[39m TextServer(ts_user, ts_password, \u001b[38;5;124m'\u001b[39m\u001b[38;5;124msenses\u001b[39m\u001b[38;5;124m'\u001b[39m) \n\u001b[1;32m----> 5\u001b[0m a \u001b[38;5;241m=\u001b[39m \u001b[43mts\u001b[49m\u001b[38;5;241;43m.\u001b[39;49m\u001b[43msenses\u001b[49m\u001b[43m(\u001b[49m\u001b[43mX_test\u001b[49m\u001b[43m[\u001b[49m\u001b[38;5;241;43m0\u001b[39;49m\u001b[43m]\u001b[49m\u001b[43m)\u001b[49m\n",
      "File \u001b[1;32mc:\\Users\\Usuario\\Documents\\Universitat\\4rt Quatri\\PLH\\Practica 2\\sentiment-analysis\\textserver.py:60\u001b[0m, in \u001b[0;36mTextServer.senses\u001b[1;34m(self, text, pandas)\u001b[0m\n\u001b[0;32m     57\u001b[0m   \u001b[38;5;28;01mreturn\u001b[39;00m l\n\u001b[0;32m     59\u001b[0m \u001b[38;5;28mself\u001b[39m\u001b[38;5;241m.\u001b[39mservice \u001b[38;5;241m=\u001b[39m \u001b[38;5;124m'\u001b[39m\u001b[38;5;124msenses\u001b[39m\u001b[38;5;124m'\u001b[39m\n\u001b[1;32m---> 60\u001b[0m ctnt \u001b[38;5;241m=\u001b[39m \u001b[38;5;28;43mself\u001b[39;49m\u001b[38;5;241;43m.\u001b[39;49m\u001b[43mquery\u001b[49m\u001b[43m(\u001b[49m\u001b[43mtext\u001b[49m\u001b[43m)\u001b[49m\n\u001b[0;32m     61\u001b[0m \u001b[38;5;28;01mif\u001b[39;00m pandas:\n\u001b[0;32m     62\u001b[0m   dt \u001b[38;5;241m=\u001b[39m \u001b[38;5;28mlist\u001b[39m(\u001b[38;5;28mmap\u001b[39m(\u001b[38;5;28;01mlambda\u001b[39;00m s: info(s, cols), sents(pars(load(ctnt))[\u001b[38;5;241m0\u001b[39m])))\n",
      "File \u001b[1;32mc:\\Users\\Usuario\\Documents\\Universitat\\4rt Quatri\\PLH\\Practica 2\\sentiment-analysis\\textserver.py:33\u001b[0m, in \u001b[0;36mTextServer.query\u001b[1;34m(self, text)\u001b[0m\n\u001b[0;32m     31\u001b[0m \u001b[38;5;28;01mif\u001b[39;00m resp\u001b[38;5;241m.\u001b[39mstatus_code \u001b[38;5;241m!=\u001b[39m requests\u001b[38;5;241m.\u001b[39mcodes\u001b[38;5;241m.\u001b[39mok : \n\u001b[0;32m     32\u001b[0m   \u001b[38;5;28mprint\u001b[39m(resp\u001b[38;5;241m.\u001b[39mtext)\n\u001b[1;32m---> 33\u001b[0m   \u001b[43mresp\u001b[49m\u001b[38;5;241;43m.\u001b[39;49m\u001b[43mraise_for_status\u001b[49m\u001b[43m(\u001b[49m\u001b[43m)\u001b[49m\n\u001b[0;32m     34\u001b[0m \u001b[38;5;28;01mreturn\u001b[39;00m resp\u001b[38;5;241m.\u001b[39mtext\n",
      "File \u001b[1;32m~\\AppData\\Local\\Packages\\PythonSoftwareFoundation.Python.3.11_qbz5n2kfra8p0\\LocalCache\\local-packages\\Python311\\site-packages\\requests\\models.py:1021\u001b[0m, in \u001b[0;36mResponse.raise_for_status\u001b[1;34m(self)\u001b[0m\n\u001b[0;32m   1016\u001b[0m     http_error_msg \u001b[38;5;241m=\u001b[39m (\n\u001b[0;32m   1017\u001b[0m         \u001b[38;5;124mf\u001b[39m\u001b[38;5;124m\"\u001b[39m\u001b[38;5;132;01m{\u001b[39;00m\u001b[38;5;28mself\u001b[39m\u001b[38;5;241m.\u001b[39mstatus_code\u001b[38;5;132;01m}\u001b[39;00m\u001b[38;5;124m Server Error: \u001b[39m\u001b[38;5;132;01m{\u001b[39;00mreason\u001b[38;5;132;01m}\u001b[39;00m\u001b[38;5;124m for url: \u001b[39m\u001b[38;5;132;01m{\u001b[39;00m\u001b[38;5;28mself\u001b[39m\u001b[38;5;241m.\u001b[39murl\u001b[38;5;132;01m}\u001b[39;00m\u001b[38;5;124m\"\u001b[39m\n\u001b[0;32m   1018\u001b[0m     )\n\u001b[0;32m   1020\u001b[0m \u001b[38;5;28;01mif\u001b[39;00m http_error_msg:\n\u001b[1;32m-> 1021\u001b[0m     \u001b[38;5;28;01mraise\u001b[39;00m HTTPError(http_error_msg, response\u001b[38;5;241m=\u001b[39m\u001b[38;5;28mself\u001b[39m)\n",
      "\u001b[1;31mHTTPError\u001b[0m: 400 Client Error:  for url: http://frodo.lsi.upc.edu:8080/TextWS/textservlet/ws/processQuery/senses"
     ]
    }
   ],
   "source": [
    "print(ts_password)\n",
    "print(ts_user)\n",
    "\n",
    "ts = TextServer(ts_user, ts_password, 'senses') \n"
   ]
  },
  {
   "cell_type": "code",
   "execution_count": 14,
   "metadata": {},
   "outputs": [
    {
     "name": "stdout",
     "output_type": "stream",
     "text": [
      "[[[\"L'\", 'el', 'DA0CS0', 'determiner', 'N/A'], ['Arnau', 'arnau', 'NP00O00', 'noun', 'N/A'], ['té', 'tenir', 'VMIP3S0', 'verb', '02205098-v'], ['un', 'un', 'DI0MS0', 'determiner', 'N/A'], ['gos', 'gos', 'NCMS000', 'noun', '02084071-n'], ['.', '.', 'Fp', 'punctuation', 'N/A']], [['Se', 'es', 'P00CN00', 'pronoun', 'N/A'], [\"l'\", 'el', 'PP3CSA0', 'pronoun', 'N/A'], ['estima', 'estimar', 'VMIP3S0', 'verb', '02256109-v'], ['molt', 'molt', 'RG', 'adverb', '00059171-r'], ['.', '.', 'Fp', 'punctuation', 'N/A']]]\n"
     ]
    }
   ],
   "source": [
    "print(a)"
   ]
  },
  {
   "cell_type": "code",
   "execution_count": 12,
   "metadata": {},
   "outputs": [
    {
     "name": "stderr",
     "output_type": "stream",
     "text": [
      "[nltk_data] Downloading package stopwords to\n",
      "[nltk_data]     C:\\Users\\Usuario\\AppData\\Roaming\\nltk_data...\n",
      "[nltk_data]   Package stopwords is already up-to-date!\n"
     ]
    }
   ],
   "source": [
    "import nltk\n",
    "from nltk.corpus import stopwords\n",
    " \n",
    "nltk.download('stopwords')\n",
    "\n",
    "stop_words = set(stopwords.words('english'))\n",
    "\n",
    "example_sent = \"i guess that if a very wild bachelor party had gone really bad , there would be broken furniture , traces of smack and cocaine on the floor , and a dead prostitute in the bathroom . i guess that if a movie had also gone really bad , there might be the same elements present . coincidence ? poor kyle ( a meek looking jon favreau ) . . . he is about to marry his radiant fiancee , laura ( cameron diaz ) . but before he exchanges his vows , he embarks to las vegas with his friends for one last blowout . but this bachelor party has gone about as bad as it could possibly get . the prostitute has met a horrible , though accidental death , and drugs are everywhere . the five friends agree that there is enough bad evidence here that will send them to jail for a very long time . a surprisingly calm robert boyd ( christian slater ) , who looks like he was groomed to make nefarious decisions , ponders their dilemma for a few minutes before deciding that the best thing to do is to bury the body in the desert where she ' ll never be found . although they stomach the gruesome deed of getting rid of the body ( which also disturbingly involves dismantling the body using power saws in order to stuff it into suitcases ) , when they return from their trip , guilt and paranoia begins to set in which slowly consumes some of the five friends . one is adam ( daniel stern ) he grows increasingly agitated . whenever people look at his van or whenever a cop glances his way , his blood pressure increases . or that just may be because of his dysfunctional family . another is michael , who was actually responsible for her death . he tries to bury his feelings , but the burden of guilt begins to affect his judgment as well . boyd is the ? doer ' of the group . seemingly suffering from a long psychosis , when he feels as if his secret is about to be exposed , he is apt to take extreme measures to cover up his tracks . kyle just hopes that his wedding will live up to laura ' s demanding expectations . then , there ' s moore ( leland orser ) who speaks 5 lines and walks around with a puzzled look on his face . the problem with this reprehensible movie is that it wants to be a cruel comedy , but it presents things in a manner that just aren ' t funny . drugs , mutilation , and killing your own friends isn ' t something to be laughed at . as a straight psychological drama , i could see how it might have worked , as each one tried to maneuver and overcome the weight of their own guilt in their own sometimes - sick ways . but this movie insults us by assuming that we could simply discard our values for 2 hours . if you do like this movie , i don ' t think that i want to know you . i did find slater a convincing leader who sways his friends to choose not the right thing but the ? smart play . ' and diaz adds some brightness to this film as a wedding - needing fiancee . but her talents are essentially wasted here . it ' s obvious that the film maker is trying to strike a certain tone . but the way that he chooses to do it is tasteless . do not make a very bad decision by seeing this film \"\n",
    "\n",
    "sent_text = nltk.sent_tokenize(example_sent)\n",
    "sentences = []\n",
    "no_stopwords_sentences = []\n",
    "for sentence in sent_text:\n",
    "    word_tokens = word_tokenize(sentence)\n",
    "\n",
    "    filtered_sentence = [w for w in word_tokens if not w.lower() in stop_words]\n",
    "    filtered_sentence = []\n",
    "    for w in word_tokens:\n",
    "        if w not in stop_words:\n",
    "            filtered_sentence.append(w)\n",
    "    no_stopwords_sentences.append(filtered_sentence)\n"
   ]
  },
  {
   "cell_type": "code",
   "execution_count": 23,
   "metadata": {},
   "outputs": [],
   "source": [
    "lemmatizer = WordNetLemmatizer()"
   ]
  },
  {
   "cell_type": "code",
   "execution_count": 51,
   "metadata": {},
   "outputs": [],
   "source": [
    "import spacy\n",
    "nlp = spacy.load(\"en_core_web_sm\")"
   ]
  },
  {
   "cell_type": "code",
   "execution_count": 85,
   "metadata": {},
   "outputs": [],
   "source": [
    "def get_sentences(text:str, remove_stopwords:bool = False) -> None:\n",
    "    sent_list = nltk.sent_tokenize(text)\n",
    "    if remove_stopwords:\n",
    "        no_stopwords_sentences = []\n",
    "        for sentence in sent_text:\n",
    "            word_tokens = word_tokenize(sentence)\n",
    "\n",
    "            filtered_sentence = [w for w in word_tokens if not w.lower() in stop_words]\n",
    "            filtered_sentence = []\n",
    "            for w in word_tokens:\n",
    "                if w not in stop_words:\n",
    "                    filtered_sentence.append(w)\n",
    "            no_stopwords_sentences.append(filtered_sentence)\n",
    "        return no_stopwords_sentences\n",
    "    else:\n",
    "        return sent_list\n",
    "\n",
    "def get_synsets(sentences:list, ts:'TextServer' = ts) -> list:\n",
    "    r = []\n",
    "    for sent in sentences:\n",
    "        a = ts.senses(sent)\n",
    "        r.append(a)\n",
    "    return r\n",
    "\n",
    "def get_lesk_synsets(text:str, lemmatize:bool = False, remove_stopwords:bool = False):\n",
    "    tokens = word_tokenize(text)\n",
    "    if lemmatize:\n",
    "        tokens = [lemmatizer.lemmatize(token) for token in tokens]\n",
    "    if remove_stopwords:\n",
    "        tokens = [w for w in tokens if not w.lower() in stop_words]\n",
    "    tagged_tokens = [(a.text, a.pos_) for a in nlp(text)]\n",
    "    words = []\n",
    "    for token, pos in tagged_tokens:\n",
    "        if pos == \"NOUN\":\n",
    "            syn = lesk(tokens, token, pos=\"n\")\n",
    "        elif pos == \"ADJ\":\n",
    "            syn = lesk(tokens, token, pos=\"a\")\n",
    "        elif pos == \"ADV\":\n",
    "            syn = lesk(tokens, token, pos=\"r\")\n",
    "        elif pos == \"VERB\":\n",
    "            syn = lesk(tokens, token, pos=\"v\")\n",
    "        else:\n",
    "            syn = None\n",
    "        if syn is not None:\n",
    "            words.append(lesk(tokens, token)) if lesk(tokens, token) is not None else None\n",
    "    return words\n",
    "\n",
    "def get_lesk_all_synsets(sentences:list) -> list:\n",
    "    all = []\n",
    "    for sentence in sentences:\n",
    "        all.append(get_lesk_synsets(sentence))\n",
    "    return all\n",
    "    \n",
    "def all_synsets():\n",
    "    for opinion in X_test:\n",
    "        s = get_sentences(opinion)\n",
    "        syns = get_synsets(s)\n",
    "\n",
    "def get_sentiment(synset:'Synset'):\n",
    "    sentiment = swn.senti_synset(synset.name())\n",
    "    return (sentiment.pos_score(), sentiment.neg_score()) if sentiment else None\n"
   ]
  },
  {
   "cell_type": "code",
   "execution_count": 34,
   "metadata": {},
   "outputs": [
    {
     "name": "stderr",
     "output_type": "stream",
     "text": [
      "[nltk_data] Downloading package universal_tagset to\n",
      "[nltk_data]     C:\\Users\\Usuario\\AppData\\Roaming\\nltk_data...\n",
      "[nltk_data]   Unzipping taggers\\universal_tagset.zip.\n"
     ]
    },
    {
     "data": {
      "text/plain": [
       "True"
      ]
     },
     "execution_count": 34,
     "metadata": {},
     "output_type": "execute_result"
    }
   ],
   "source": [
    "nltk.download('universal_tagset')"
   ]
  },
  {
   "cell_type": "code",
   "execution_count": 81,
   "metadata": {},
   "outputs": [
    {
     "name": "stdout",
     "output_type": "stream",
     "text": [
      "['i guess that if a very wild bachelor party had gone really bad , there would be broken furniture , traces of smack and cocaine on the floor , and a dead prostitute in the bathroom .', 'i guess that if a movie had also gone really bad , there might be the same elements present .', 'coincidence ?', 'poor kyle ( a meek looking jon favreau ) .', '.', '.', 'he is about to marry his radiant fiancee , laura ( cameron diaz ) .', 'but before he exchanges his vows , he embarks to las vegas with his friends for one last blowout .', 'but this bachelor party has gone about as bad as it could possibly get .', 'the prostitute has met a horrible , though accidental death , and drugs are everywhere .', 'the five friends agree that there is enough bad evidence here that will send them to jail for a very long time .', \"a surprisingly calm robert boyd ( christian slater ) , who looks like he was groomed to make nefarious decisions , ponders their dilemma for a few minutes before deciding that the best thing to do is to bury the body in the desert where she ' ll never be found .\", 'although they stomach the gruesome deed of getting rid of the body ( which also disturbingly involves dismantling the body using power saws in order to stuff it into suitcases ) , when they return from their trip , guilt and paranoia begins to set in which slowly consumes some of the five friends .', 'one is adam ( daniel stern ) he grows increasingly agitated .', 'whenever people look at his van or whenever a cop glances his way , his blood pressure increases .', 'or that just may be because of his dysfunctional family .', 'another is michael , who was actually responsible for her death .', 'he tries to bury his feelings , but the burden of guilt begins to affect his judgment as well .', 'boyd is the ?', \"doer ' of the group .\", 'seemingly suffering from a long psychosis , when he feels as if his secret is about to be exposed , he is apt to take extreme measures to cover up his tracks .', \"kyle just hopes that his wedding will live up to laura ' s demanding expectations .\", \"then , there ' s moore ( leland orser ) who speaks 5 lines and walks around with a puzzled look on his face .\", \"the problem with this reprehensible movie is that it wants to be a cruel comedy , but it presents things in a manner that just aren ' t funny .\", \"drugs , mutilation , and killing your own friends isn ' t something to be laughed at .\", 'as a straight psychological drama , i could see how it might have worked , as each one tried to maneuver and overcome the weight of their own guilt in their own sometimes - sick ways .', 'but this movie insults us by assuming that we could simply discard our values for 2 hours .', \"if you do like this movie , i don ' t think that i want to know you .\", 'i did find slater a convincing leader who sways his friends to choose not the right thing but the ?', \"smart play . '\", 'and diaz adds some brightness to this film as a wedding - needing fiancee .', 'but her talents are essentially wasted here .', \"it ' s obvious that the film maker is trying to strike a certain tone .\", 'but the way that he chooses to do it is tasteless .', 'do not make a very bad decision by seeing this film .']\n",
      "[[Synset('guess.v.02'), Synset('very.r.02'), Synset('wild.a.02'), Synset('knight_bachelor.n.01'), Synset('party.n.03'), Synset('go.v.10'), Synset('truly.r.01'), Synset('regretful.a.01'), Synset('unwrap.v.02'), Synset('furniture.n.01'), Synset('tracing.n.02'), Synset('smack.n.03'), Synset('floor.n.07'), Synset('dead.a.02'), Synset('prostitute.n.01'), Synset('bathroom.n.01')], [Synset('guess.v.04'), Synset('movie.n.01'), Synset('besides.r.02'), Synset('go.v.10'), Synset('very.r.01'), Synset('regretful.a.01'), Synset('same.a.01'), Synset('component.n.03'), Synset('present.a.02')], [Synset('concurrence.n.04')], [Synset('poor.a.04'), Synset('look.v.03')], [], [], [Synset('marry.v.02'), Synset('fiancee.n.01')], [Synset('commute.v.04'), Synset('vow.n.01'), Synset('venture.v.01'), Synset('friend.n.01'), Synset('last.a.02'), Synset('runaway.n.01')], [Synset('knight_bachelor.n.01'), Synset('party.n.05'), Synset('function.v.01'), Synset('approximately.r.01'), Synset('equally.r.01'), Synset('regretful.a.01'), Synset('possibly.r.02'), Synset('pay_back.v.02')], [Synset('prostitute.n.01'), Synset('meet.v.11'), Synset('death.n.06'), Synset('drug.n.01'), Synset('everywhere.r.01')], [Synset('friend.n.05'), Synset('agree.v.02'), Synset('be.v.01'), Synset('regretful.a.01'), Synset('evidence.n.03'), Synset('here.r.03'), Synset('station.v.01'), Synset('jail.n.01'), Synset('very.r.01'), Synset('long.a.01'), Synset('fourth_dimension.n.01')], [Synset('surprisingly.r.01'), Synset('calm.a.02'), Synset('woodlouse.n.01'), Synset('front.v.01'), Synset('prepare.v.05'), Synset('make.v.42'), Synset('decision.n.04'), Synset('chew_over.v.01'), Synset('dilemma.n.01'), Synset('few.a.01'), Synset('moment.n.01'), Synset('decide.v.01'), Synset('good.a.01'), Synset('thing.n.08'), Synset('suffice.v.01'), Synset('bury.v.03'), Synset('soundbox.n.01'), Synset('desert.n.01'), Synset('never.r.01'), Synset('find.v.13')], [Synset('stomach.v.01'), Synset('deed.n.01'), Synset('rid.v.01'), Synset('soundbox.n.01'), Synset('besides.r.02'), Synset('disturbingly.r.01'), Synset('involve.v.06'), Synset('level.v.02'), Synset('soundbox.n.01'), Synset('use.v.06'), Synset('power.n.02'), Synset('proverb.n.01'), Synset('order.n.14'), Synset('stuff.v.05'), Synset('bag.n.06'), Synset('return.v.14'), Synset('trip.n.01'), Synset('guilt.n.01'), Synset('paranoia.n.01'), Synset('begin.v.08'), Synset('set.v.05'), Synset('lento.r.01'), Synset('devour.v.03'), Synset('friend.n.05')], [Synset('turn.v.07'), Synset('increasingly.r.01'), Synset('agitated.a.02')], [Synset('citizenry.n.01'), Synset('look.v.03'), Synset('van.n.03'), Synset('bull.n.05'), Synset('glance.v.01'), Synset('way.n.11'), Synset('blood.n.05'), Synset('pressure.n.01'), Synset('increase.n.03')], [Synset('precisely.r.01'), Synset('family.n.08')], [Synset('actually.r.04'), Synset('responsible.a.01'), Synset('death.n.06')], [Synset('test.v.01'), Synset('immerse.v.03'), Synset('spirit.n.02'), Synset('effect.n.04'), Synset('guilt.n.01'), Synset('begin.v.08'), Synset('feign.v.01'), Synset('judgment.n.03'), Synset('equally.r.01'), Synset('well.r.02')], [], [Synset('group.n.02')], [Synset('apparently.r.01'), Synset('suffer.v.11'), Synset('long.a.01'), Synset('psychosis.n.01'), Synset('feel.v.05'), Synset('secret.n.01'), Synset('unwrap.v.02'), Synset('take.v.24'), Synset('measure.n.09'), Synset('shroud.v.01'), Synset('track.n.07')], [Synset('precisely.r.01'), Synset('hope.v.02'), Synset('wedding.n.03'), Synset('survive.v.01'), Synset('demand.v.06'), Synset('expectation.n.03')], [Synset('then.r.02'), Synset('talk.v.01'), Synset('production_line.n.01'), Synset('walk.v.05'), Synset('about.r.02'), Synset('spirit.n.02'), Synset('expression.n.01')], [Synset('problem.n.01'), Synset('movie.n.01'), Synset('want.v.05'), Synset('comedy.n.01'), Synset('salute.v.06'), Synset('thing.n.08'), Synset('manner.n.01'), Synset('just.r.06'), Synset('triiodothyronine.n.01')], [Synset('drug.n.01'), Synset('mutilation.n.01'), Synset('kill.v.14'), Synset('friend.n.01'), Synset('triiodothyronine.n.01'), Synset('laugh.v.01')], [Synset('straight.a.06'), Synset('psychological.a.02'), Synset('drama.n.04'), Synset('visit.v.01'), Synset('work.v.19'), Synset('one.n.01'), Synset('try_on.v.01'), Synset('manoeuver.v.03'), Synset('get_the_best.v.01'), Synset('weight.n.02'), Synset('guilt.n.01'), Synset('sometimes.r.01'), Synset('ill.a.01'), Synset('ways.n.01')], [Synset('movie.n.01'), Synset('diss.v.01'), Synset('wear.v.09'), Synset('simply.r.03'), Synset('discard.v.01'), Synset('value.n.03'), Synset('hours.n.01')], [Synset('cause.v.01'), Synset('movie.n.01'), Synset('wear.v.09'), Synset('think.v.03'), Synset('want.v.03'), Synset('know.v.02')], [Synset('recover.v.01'), Synset('woodlouse.n.01'), Synset('convincing.a.01'), Synset('leader.n.01'), Synset('swing.v.02'), Synset('supporter.n.01'), Synset('choose.v.03'), Synset('right.a.07'), Synset('thing.n.12')], [Synset('smart.a.01'), Synset('playing_period.n.01')], [Synset('lend.v.01'), Synset('brightness.n.02'), Synset('film.n.05'), Synset('wedding.n.03'), Synset('need.v.03'), Synset('fiancee.n.01')], [Synset('talent.n.02'), Synset('basically.r.01'), Synset('waste.v.10'), Synset('here.r.04')], [Synset('obvious.a.01'), Synset('movie.n.01'), Synset('godhead.n.01'), Synset('try_on.v.01'), Synset('strike.v.01'), Synset('certain.a.04'), Synset('tone.n.02')], [Synset('way.n.11'), Synset('choose.v.03'), Synset('do.v.08'), Synset('tasteless.a.02')], [Synset('make.v.15'), Synset('very.r.02'), Synset('regretful.a.01'), Synset('decisiveness.n.01'), Synset('see.v.10'), Synset('movie.n.01')]]\n"
     ]
    }
   ],
   "source": [
    "s = get_sentences(X_test[0])\n",
    "print(s)\n",
    "syns = get_lesk_all_synsets(s)\n",
    "print(syns)"
   ]
  },
  {
   "cell_type": "code",
   "execution_count": 13,
   "metadata": {},
   "outputs": [
    {
     "name": "stdout",
     "output_type": "stream",
     "text": [
      "[['guess', 'wild', 'bachelor', 'party', 'gone', 'really', 'bad', ',', 'would', 'broken', 'furniture', ',', 'traces', 'smack', 'cocaine', 'floor', ',', 'dead', 'prostitute', 'bathroom', '.'], ['guess', 'movie', 'also', 'gone', 'really', 'bad', ',', 'might', 'elements', 'present', '.'], ['coincidence', '?'], ['poor', 'kyle', '(', 'meek', 'looking', 'jon', 'favreau', ')', '.'], ['.'], ['.'], ['marry', 'radiant', 'fiancee', ',', 'laura', '(', 'cameron', 'diaz', ')', '.'], ['exchanges', 'vows', ',', 'embarks', 'las', 'vegas', 'friends', 'one', 'last', 'blowout', '.'], ['bachelor', 'party', 'gone', 'bad', 'could', 'possibly', 'get', '.'], ['prostitute', 'met', 'horrible', ',', 'though', 'accidental', 'death', ',', 'drugs', 'everywhere', '.'], ['five', 'friends', 'agree', 'enough', 'bad', 'evidence', 'send', 'jail', 'long', 'time', '.'], ['surprisingly', 'calm', 'robert', 'boyd', '(', 'christian', 'slater', ')', ',', 'looks', 'like', 'groomed', 'make', 'nefarious', 'decisions', ',', 'ponders', 'dilemma', 'minutes', 'deciding', 'best', 'thing', 'bury', 'body', 'desert', \"'\", 'never', 'found', '.'], ['although', 'stomach', 'gruesome', 'deed', 'getting', 'rid', 'body', '(', 'also', 'disturbingly', 'involves', 'dismantling', 'body', 'using', 'power', 'saws', 'order', 'stuff', 'suitcases', ')', ',', 'return', 'trip', ',', 'guilt', 'paranoia', 'begins', 'set', 'slowly', 'consumes', 'five', 'friends', '.'], ['one', 'adam', '(', 'daniel', 'stern', ')', 'grows', 'increasingly', 'agitated', '.'], ['whenever', 'people', 'look', 'van', 'whenever', 'cop', 'glances', 'way', ',', 'blood', 'pressure', 'increases', '.'], ['may', 'dysfunctional', 'family', '.'], ['another', 'michael', ',', 'actually', 'responsible', 'death', '.'], ['tries', 'bury', 'feelings', ',', 'burden', 'guilt', 'begins', 'affect', 'judgment', 'well', '.'], ['boyd', '?'], ['doer', \"'\", 'group', '.'], ['seemingly', 'suffering', 'long', 'psychosis', ',', 'feels', 'secret', 'exposed', ',', 'apt', 'take', 'extreme', 'measures', 'cover', 'tracks', '.'], ['kyle', 'hopes', 'wedding', 'live', 'laura', \"'\", 'demanding', 'expectations', '.'], [',', \"'\", 'moore', '(', 'leland', 'orser', ')', 'speaks', '5', 'lines', 'walks', 'around', 'puzzled', 'look', 'face', '.'], ['problem', 'reprehensible', 'movie', 'wants', 'cruel', 'comedy', ',', 'presents', 'things', 'manner', \"'\", 'funny', '.'], ['drugs', ',', 'mutilation', ',', 'killing', 'friends', \"'\", 'something', 'laughed', '.'], ['straight', 'psychological', 'drama', ',', 'could', 'see', 'might', 'worked', ',', 'one', 'tried', 'maneuver', 'overcome', 'weight', 'guilt', 'sometimes', '-', 'sick', 'ways', '.'], ['movie', 'insults', 'us', 'assuming', 'could', 'simply', 'discard', 'values', '2', 'hours', '.'], ['like', 'movie', ',', \"'\", 'think', 'want', 'know', '.'], ['find', 'slater', 'convincing', 'leader', 'sways', 'friends', 'choose', 'right', 'thing', '?'], ['smart', 'play', '.', \"'\"], ['diaz', 'adds', 'brightness', 'film', 'wedding', '-', 'needing', 'fiancee', '.'], ['talents', 'essentially', 'wasted', '.'], [\"'\", 'obvious', 'film', 'maker', 'trying', 'strike', 'certain', 'tone', '.'], ['way', 'chooses', 'tasteless', '.'], ['make', 'bad', 'decision', 'seeing', 'film']]\n"
     ]
    }
   ],
   "source": [
    "print(full_sentence)"
   ]
  },
  {
   "cell_type": "code",
   "execution_count": 15,
   "metadata": {},
   "outputs": [
    {
     "name": "stdout",
     "output_type": "stream",
     "text": [
      "i guess that if a very wild bachelor party had gone really bad , there would be broken furniture , traces of smack and cocaine on the floor , and a dead prostitute in the bathroom . i guess that if a movie had also gone really bad , there might be the same elements present . coincidence ? poor kyle ( a meek looking jon favreau ) . . . he is about to marry his radiant fiancee , laura ( cameron diaz ) . but before he exchanges his vows , he embarks to las vegas with his friends for one last blowout . but this bachelor party has gone about as bad as it could possibly get . the prostitute has met a horrible , though accidental death , and drugs are everywhere . the five friends agree that there is enough bad evidence here that will send them to jail for a very long time . a surprisingly calm robert boyd ( christian slater ) , who looks like he was groomed to make nefarious decisions , ponders their dilemma for a few minutes before deciding that the best thing to do is to bury the body in the desert where she ' ll never be found . although they stomach the gruesome deed of getting rid of the body ( which also disturbingly involves dismantling the body using power saws in order to stuff it into suitcases ) , when they return from their trip , guilt and paranoia begins to set in which slowly consumes some of the five friends . one is adam ( daniel stern ) he grows increasingly agitated . whenever people look at his van or whenever a cop glances his way , his blood pressure increases . or that just may be because of his dysfunctional family . another is michael , who was actually responsible for her death . he tries to bury his feelings , but the burden of guilt begins to affect his judgment as well . boyd is the ? doer ' of the group . seemingly suffering from a long psychosis , when he feels as if his secret is about to be exposed , he is apt to take extreme measures to cover up his tracks . kyle just hopes that his wedding will live up to laura ' s demanding expectations . then , there ' s moore ( leland orser ) who speaks 5 lines and walks around with a puzzled look on his face . the problem with this reprehensible movie is that it wants to be a cruel comedy , but it presents things in a manner that just aren ' t funny . drugs , mutilation , and killing your own friends isn ' t something to be laughed at . as a straight psychological drama , i could see how it might have worked , as each one tried to maneuver and overcome the weight of their own guilt in their own sometimes - sick ways . but this movie insults us by assuming that we could simply discard our values for 2 hours . if you do like this movie , i don ' t think that i want to know you . i did find slater a convincing leader who sways his friends to choose not the right thing but the ? smart play . ' and diaz adds some brightness to this film as a wedding - needing fiancee . but her talents are essentially wasted here . it ' s obvious that the film maker is trying to strike a certain tone . but the way that he chooses to do it is tasteless . do not make a very bad decision by seeing this film .\n"
     ]
    }
   ],
   "source": [
    "print(X_test[0])"
   ]
  },
  {
   "cell_type": "code",
   "execution_count": 86,
   "metadata": {},
   "outputs": [],
   "source": [
    "results = []\n",
    "for opinion in X_test:\n",
    "    s = get_sentences(opinion)\n",
    "    syns = get_lesk_all_synsets(s)\n",
    "    total_pos = 0\n",
    "    total_neg = 0\n",
    "    for sentence in syns:\n",
    "        scores = [get_sentiment(syn) for syn in sentence if get_sentiment(syn) != None]\n",
    "        total_pos += sum(s[0] for s in scores)\n",
    "        total_neg += sum(s[1] for s in scores)\n",
    "    if total_pos > total_neg:\n",
    "        # print(\"Positive\")\n",
    "        results.append(1)\n",
    "    elif total_pos < total_neg:\n",
    "        # print(\"Negative\")\n",
    "        results.append(0)\n",
    "    else:\n",
    "        # print(\"Neutral\")\n",
    "        results.append(0)\n"
   ]
  },
  {
   "cell_type": "code",
   "execution_count": 87,
   "metadata": {},
   "outputs": [
    {
     "name": "stdout",
     "output_type": "stream",
     "text": [
      "0.576\n"
     ]
    }
   ],
   "source": [
    "from sklearn.metrics import accuracy_score\n",
    "print(accuracy_score(y_test, results))"
   ]
  }
 ],
 "metadata": {
  "kernelspec": {
   "display_name": "Python 3",
   "language": "python",
   "name": "python3"
  },
  "language_info": {
   "codemirror_mode": {
    "name": "ipython",
    "version": 3
   },
   "file_extension": ".py",
   "mimetype": "text/x-python",
   "name": "python",
   "nbconvert_exporter": "python",
   "pygments_lexer": "ipython3",
   "version": "3.11.2"
  },
  "orig_nbformat": 4
 },
 "nbformat": 4,
 "nbformat_minor": 2
}
